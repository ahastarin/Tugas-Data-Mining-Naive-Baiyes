{
 "cells": [
  {
   "cell_type": "code",
   "execution_count": 1,
   "id": "04da74cb-64c1-40ca-babf-1cfed346e308",
   "metadata": {},
   "outputs": [],
   "source": [
    "import numpy as np \n",
    "import pandas as pd \n",
    "from apyori import apriori "
   ]
  },
  {
   "cell_type": "code",
   "execution_count": 2,
   "id": "f6ec04aa-feaa-42be-a145-28cd3af6dedc",
   "metadata": {},
   "outputs": [],
   "source": [
    "store_data = pd.read_excel(\"D:/datamining/data.xls\")"
   ]
  },
  {
   "cell_type": "code",
   "execution_count": 3,
   "id": "ab8d4122-47a1-48cb-aedc-061f94f2a9ce",
   "metadata": {},
   "outputs": [
    {
     "data": {
      "text/html": [
       "<div>\n",
       "<style scoped>\n",
       "    .dataframe tbody tr th:only-of-type {\n",
       "        vertical-align: middle;\n",
       "    }\n",
       "\n",
       "    .dataframe tbody tr th {\n",
       "        vertical-align: top;\n",
       "    }\n",
       "\n",
       "    .dataframe thead th {\n",
       "        text-align: right;\n",
       "    }\n",
       "</style>\n",
       "<table border=\"1\" class=\"dataframe\">\n",
       "  <thead>\n",
       "    <tr style=\"text-align: right;\">\n",
       "      <th></th>\n",
       "      <th>Barang 1</th>\n",
       "      <th>Barang 2</th>\n",
       "      <th>Barang 3</th>\n",
       "      <th>Barang 4</th>\n",
       "      <th>Barang 5</th>\n",
       "      <th>Barang 6</th>\n",
       "    </tr>\n",
       "  </thead>\n",
       "  <tbody>\n",
       "    <tr>\n",
       "      <th>0</th>\n",
       "      <td>Wine</td>\n",
       "      <td>Chips</td>\n",
       "      <td>Bread</td>\n",
       "      <td>Butter</td>\n",
       "      <td>Milk</td>\n",
       "      <td>Apple</td>\n",
       "    </tr>\n",
       "    <tr>\n",
       "      <th>1</th>\n",
       "      <td>Wine</td>\n",
       "      <td>NaN</td>\n",
       "      <td>Bread</td>\n",
       "      <td>Butter</td>\n",
       "      <td>Milk</td>\n",
       "      <td>NaN</td>\n",
       "    </tr>\n",
       "    <tr>\n",
       "      <th>2</th>\n",
       "      <td>NaN</td>\n",
       "      <td>NaN</td>\n",
       "      <td>Bread</td>\n",
       "      <td>Butter</td>\n",
       "      <td>Milk</td>\n",
       "      <td>NaN</td>\n",
       "    </tr>\n",
       "    <tr>\n",
       "      <th>3</th>\n",
       "      <td>NaN</td>\n",
       "      <td>Chips</td>\n",
       "      <td>NaN</td>\n",
       "      <td>NaN</td>\n",
       "      <td>NaN</td>\n",
       "      <td>Apple</td>\n",
       "    </tr>\n",
       "    <tr>\n",
       "      <th>4</th>\n",
       "      <td>Wine</td>\n",
       "      <td>Chips</td>\n",
       "      <td>Bread</td>\n",
       "      <td>Butter</td>\n",
       "      <td>Milk</td>\n",
       "      <td>Apple</td>\n",
       "    </tr>\n",
       "  </tbody>\n",
       "</table>\n",
       "</div>"
      ],
      "text/plain": [
       "  Barang 1 Barang 2 Barang 3 Barang 4 Barang 5 Barang 6\n",
       "0     Wine    Chips    Bread   Butter     Milk    Apple\n",
       "1     Wine      NaN    Bread   Butter     Milk      NaN\n",
       "2      NaN      NaN    Bread   Butter     Milk      NaN\n",
       "3      NaN    Chips      NaN      NaN      NaN    Apple\n",
       "4     Wine    Chips    Bread   Butter     Milk    Apple"
      ]
     },
     "execution_count": 3,
     "metadata": {},
     "output_type": "execute_result"
    }
   ],
   "source": [
    "store_data.head()"
   ]
  },
  {
   "cell_type": "code",
   "execution_count": 4,
   "id": "231be7a2-a4fb-466d-b33e-b1cd0ef4cce0",
   "metadata": {},
   "outputs": [
    {
     "data": {
      "text/html": [
       "<div>\n",
       "<style scoped>\n",
       "    .dataframe tbody tr th:only-of-type {\n",
       "        vertical-align: middle;\n",
       "    }\n",
       "\n",
       "    .dataframe tbody tr th {\n",
       "        vertical-align: top;\n",
       "    }\n",
       "\n",
       "    .dataframe thead th {\n",
       "        text-align: right;\n",
       "    }\n",
       "</style>\n",
       "<table border=\"1\" class=\"dataframe\">\n",
       "  <thead>\n",
       "    <tr style=\"text-align: right;\">\n",
       "      <th></th>\n",
       "      <th>Barang 1</th>\n",
       "      <th>Barang 2</th>\n",
       "      <th>Barang 3</th>\n",
       "      <th>Barang 4</th>\n",
       "      <th>Barang 5</th>\n",
       "      <th>Barang 6</th>\n",
       "    </tr>\n",
       "  </thead>\n",
       "  <tbody>\n",
       "    <tr>\n",
       "      <th>46</th>\n",
       "      <td>NaN</td>\n",
       "      <td>Chips</td>\n",
       "      <td>NaN</td>\n",
       "      <td>Butter</td>\n",
       "      <td>Milk</td>\n",
       "      <td>Apple</td>\n",
       "    </tr>\n",
       "    <tr>\n",
       "      <th>47</th>\n",
       "      <td>Wine</td>\n",
       "      <td>Chips</td>\n",
       "      <td>Bread</td>\n",
       "      <td>Butter</td>\n",
       "      <td>Milk</td>\n",
       "      <td>Apple</td>\n",
       "    </tr>\n",
       "    <tr>\n",
       "      <th>48</th>\n",
       "      <td>Wine</td>\n",
       "      <td>NaN</td>\n",
       "      <td>Bread</td>\n",
       "      <td>Butter</td>\n",
       "      <td>Milk</td>\n",
       "      <td>Apple</td>\n",
       "    </tr>\n",
       "    <tr>\n",
       "      <th>49</th>\n",
       "      <td>Wine</td>\n",
       "      <td>Chips</td>\n",
       "      <td>Bread</td>\n",
       "      <td>NaN</td>\n",
       "      <td>Milk</td>\n",
       "      <td>Apple</td>\n",
       "    </tr>\n",
       "    <tr>\n",
       "      <th>50</th>\n",
       "      <td>NaN</td>\n",
       "      <td>Chips</td>\n",
       "      <td>NaN</td>\n",
       "      <td>NaN</td>\n",
       "      <td>NaN</td>\n",
       "      <td>NaN</td>\n",
       "    </tr>\n",
       "  </tbody>\n",
       "</table>\n",
       "</div>"
      ],
      "text/plain": [
       "   Barang 1 Barang 2 Barang 3 Barang 4 Barang 5 Barang 6\n",
       "46      NaN    Chips      NaN   Butter     Milk    Apple\n",
       "47     Wine    Chips    Bread   Butter     Milk    Apple\n",
       "48     Wine      NaN    Bread   Butter     Milk    Apple\n",
       "49     Wine    Chips    Bread      NaN     Milk    Apple\n",
       "50      NaN    Chips      NaN      NaN      NaN      NaN"
      ]
     },
     "execution_count": 4,
     "metadata": {},
     "output_type": "execute_result"
    }
   ],
   "source": [
    "store_data.tail()\n"
   ]
  },
  {
   "cell_type": "code",
   "execution_count": 5,
   "id": "fa5863e5-8f04-478a-8fb3-5658839d7521",
   "metadata": {},
   "outputs": [
    {
     "data": {
      "text/plain": [
       "(51, 6)"
      ]
     },
     "execution_count": 5,
     "metadata": {},
     "output_type": "execute_result"
    }
   ],
   "source": [
    "store_data.shape"
   ]
  },
  {
   "cell_type": "code",
   "execution_count": 6,
   "id": "8839689b-3b35-478c-9ad1-73d9b5ab73b7",
   "metadata": {},
   "outputs": [],
   "source": [
    "records = []\n",
    "for i in range(0,22):\n",
    "    records.append([str(store_data.values[i,j]) for j in range(0,6)])"
   ]
  },
  {
   "cell_type": "code",
   "execution_count": 7,
   "id": "a5e74264-89b9-4e1f-a210-fce746ae7b12",
   "metadata": {},
   "outputs": [],
   "source": [
    "association_rules = apriori(records, min_support=0.10, min_confidence=0.6, min_lift=1.3, min_length=2)\n",
    "association_results = list(association_rules)\n"
   ]
  },
  {
   "cell_type": "code",
   "execution_count": 8,
   "id": "d227fc39-1743-4cf1-baa7-799308ef6304",
   "metadata": {},
   "outputs": [
    {
     "name": "stdout",
     "output_type": "stream",
     "text": [
      "11\n"
     ]
    }
   ],
   "source": [
    "print(len(association_results))"
   ]
  },
  {
   "cell_type": "code",
   "execution_count": 9,
   "id": "a7f8e0a3-556e-4c56-9cab-f37a4a8dc23c",
   "metadata": {},
   "outputs": [
    {
     "name": "stdout",
     "output_type": "stream",
     "text": [
      "RelationRecord(items=frozenset({'Bread', 'Butter', 'Chips'}), support=0.4090909090909091, ordered_statistics=[OrderedStatistic(items_base=frozenset({'Butter'}), items_add=frozenset({'Bread', 'Chips'}), confidence=0.6000000000000001, lift=1.3200000000000003), OrderedStatistic(items_base=frozenset({'Bread', 'Chips'}), items_add=frozenset({'Butter'}), confidence=0.9000000000000001, lift=1.3200000000000003)])\n"
     ]
    }
   ],
   "source": [
    "print(association_results[0])"
   ]
  },
  {
   "cell_type": "code",
   "execution_count": 10,
   "id": "05d4d16d-bbe1-476e-884f-2ed2161d137c",
   "metadata": {},
   "outputs": [
    {
     "name": "stdout",
     "output_type": "stream",
     "text": [
      "  title-1 title-2 support confidence    lift\n",
      "0   Bread  Butter  0.4090     0.6000  1.3200\n",
      "  title-1 title-2 support confidence    lift\n",
      "0   Bread  Butter  0.4090     0.6000  1.3200\n",
      "1   Bread  Butter  0.3181     0.6363  1.4000\n",
      "  title-1 title-2 support confidence    lift\n",
      "0   Bread  Butter  0.4090     0.6000  1.3200\n",
      "1   Bread  Butter  0.3181     0.6363  1.4000\n",
      "2    Wine   Bread  0.2727        1.0   1.375\n",
      "  title-1 title-2 support confidence    lift\n",
      "0   Bread  Butter  0.4090     0.6000  1.3200\n",
      "1   Bread  Butter  0.3181     0.6363  1.4000\n",
      "2    Wine   Bread  0.2727        1.0   1.375\n",
      "3    Wine   Bread  0.3181     0.7000  1.4000\n",
      "  title-1 title-2 support confidence    lift\n",
      "0   Bread  Butter  0.4090     0.6000  1.3200\n",
      "1   Bread  Butter  0.3181     0.6363  1.4000\n",
      "2    Wine   Bread  0.2727        1.0   1.375\n",
      "3    Wine   Bread  0.3181     0.7000  1.4000\n",
      "4    Milk   Bread  0.4090     0.6923  1.3846\n",
      "  title-1 title-2 support confidence    lift\n",
      "0   Bread  Butter  0.4090     0.6000  1.3200\n",
      "1   Bread  Butter  0.3181     0.6363  1.4000\n",
      "2    Wine   Bread  0.2727        1.0   1.375\n",
      "3    Wine   Bread  0.3181     0.7000  1.4000\n",
      "4    Milk   Bread  0.4090     0.6923  1.3846\n",
      "5    Wine  Butter  0.2272      0.625   1.375\n",
      "  title-1 title-2 support confidence    lift\n",
      "0   Bread  Butter  0.4090     0.6000  1.3200\n",
      "1   Bread  Butter  0.3181     0.6363  1.4000\n",
      "2    Wine   Bread  0.2727        1.0   1.375\n",
      "3    Wine   Bread  0.3181     0.7000  1.4000\n",
      "4    Milk   Bread  0.4090     0.6923  1.3846\n",
      "5    Wine  Butter  0.2272      0.625   1.375\n",
      "6    Wine  Butter  0.2727     0.6666  1.3333\n",
      "  title-1 title-2 support confidence    lift\n",
      "0   Bread  Butter  0.4090     0.6000  1.3200\n",
      "1   Bread  Butter  0.3181     0.6363  1.4000\n",
      "2    Wine   Bread  0.2727        1.0   1.375\n",
      "3    Wine   Bread  0.3181     0.7000  1.4000\n",
      "4    Milk   Bread  0.4090     0.6923  1.3846\n",
      "5    Wine  Butter  0.2272      0.625   1.375\n",
      "6    Wine  Butter  0.2727     0.6666  1.3333\n",
      "7    Wine    Milk  0.2272     0.8333  1.4102\n",
      "  title-1 title-2 support confidence    lift\n",
      "0   Bread  Butter  0.4090     0.6000  1.3200\n",
      "1   Bread  Butter  0.3181     0.6363  1.4000\n",
      "2    Wine   Bread  0.2727        1.0   1.375\n",
      "3    Wine   Bread  0.3181     0.7000  1.4000\n",
      "4    Milk   Bread  0.4090     0.6923  1.3846\n",
      "5    Wine  Butter  0.2272      0.625   1.375\n",
      "6    Wine  Butter  0.2727     0.6666  1.3333\n",
      "7    Wine    Milk  0.2272     0.8333  1.4102\n",
      "8    Wine  Butter  0.2727        0.6    1.32\n",
      "  title-1 title-2 support confidence    lift\n",
      "0   Bread  Butter  0.4090     0.6000  1.3200\n",
      "1   Bread  Butter  0.3181     0.6363  1.4000\n",
      "2    Wine   Bread  0.2727        1.0   1.375\n",
      "3    Wine   Bread  0.3181     0.7000  1.4000\n",
      "4    Milk   Bread  0.4090     0.6923  1.3846\n",
      "5    Wine  Butter  0.2272      0.625   1.375\n",
      "6    Wine  Butter  0.2727     0.6666  1.3333\n",
      "7    Wine    Milk  0.2272     0.8333  1.4102\n",
      "8    Wine  Butter  0.2727        0.6    1.32\n",
      "9    Wine  Butter  0.1363        1.0   1.375\n",
      "   title-1 title-2 support confidence    lift\n",
      "0    Bread  Butter  0.4090     0.6000  1.3200\n",
      "1    Bread  Butter  0.3181     0.6363  1.4000\n",
      "2     Wine   Bread  0.2727        1.0   1.375\n",
      "3     Wine   Bread  0.3181     0.7000  1.4000\n",
      "4     Milk   Bread  0.4090     0.6923  1.3846\n",
      "5     Wine  Butter  0.2272      0.625   1.375\n",
      "6     Wine  Butter  0.2727     0.6666  1.3333\n",
      "7     Wine    Milk  0.2272     0.8333  1.4102\n",
      "8     Wine  Butter  0.2727        0.6    1.32\n",
      "9     Wine  Butter  0.1363        1.0   1.375\n",
      "10    Wine  Butter  0.1818     0.6666  1.3333\n"
     ]
    }
   ],
   "source": [
    "results = []\n",
    "for item in association_results: \n",
    "    pair = item[0]\n",
    "    items = [x for x in pair]\n",
    "\n",
    "    value0 = str(items[0])\n",
    "    value1 = str(items[1])\n",
    "    value2 = str(item[1])[:6]\n",
    "    value3 = str(item[2][0][2])[:6]\n",
    "    value4 = str(item[2][0][3])[:6]\n",
    "\n",
    "    rows = (value0, value1, value2, value3, value4)\n",
    "    results.append(rows)\n",
    "\n",
    "    label = ['title-1', 'title-2', 'support', 'confidence', 'lift']\n",
    "\n",
    "    store_suggestion = pd.DataFrame.from_records(results, columns=label)\n",
    "\n",
    "    print(store_suggestion)"
   ]
  },
  {
   "cell_type": "code",
   "execution_count": 11,
   "id": "f521e77c-a9da-4551-8120-dc6e11d2826f",
   "metadata": {},
   "outputs": [
    {
     "data": {
      "text/html": [
       "<div>\n",
       "<style scoped>\n",
       "    .dataframe tbody tr th:only-of-type {\n",
       "        vertical-align: middle;\n",
       "    }\n",
       "\n",
       "    .dataframe tbody tr th {\n",
       "        vertical-align: top;\n",
       "    }\n",
       "\n",
       "    .dataframe thead th {\n",
       "        text-align: right;\n",
       "    }\n",
       "</style>\n",
       "<table border=\"1\" class=\"dataframe\">\n",
       "  <thead>\n",
       "    <tr style=\"text-align: right;\">\n",
       "      <th></th>\n",
       "      <th>title-1</th>\n",
       "      <th>title-2</th>\n",
       "      <th>support</th>\n",
       "      <th>confidence</th>\n",
       "      <th>lift</th>\n",
       "    </tr>\n",
       "  </thead>\n",
       "  <tbody>\n",
       "    <tr>\n",
       "      <th>count</th>\n",
       "      <td>11</td>\n",
       "      <td>11</td>\n",
       "      <td>11</td>\n",
       "      <td>11</td>\n",
       "      <td>11</td>\n",
       "    </tr>\n",
       "    <tr>\n",
       "      <th>unique</th>\n",
       "      <td>3</td>\n",
       "      <td>3</td>\n",
       "      <td>6</td>\n",
       "      <td>9</td>\n",
       "      <td>7</td>\n",
       "    </tr>\n",
       "    <tr>\n",
       "      <th>top</th>\n",
       "      <td>Wine</td>\n",
       "      <td>Butter</td>\n",
       "      <td>0.2727</td>\n",
       "      <td>1.0</td>\n",
       "      <td>1.375</td>\n",
       "    </tr>\n",
       "    <tr>\n",
       "      <th>freq</th>\n",
       "      <td>8</td>\n",
       "      <td>7</td>\n",
       "      <td>3</td>\n",
       "      <td>2</td>\n",
       "      <td>3</td>\n",
       "    </tr>\n",
       "  </tbody>\n",
       "</table>\n",
       "</div>"
      ],
      "text/plain": [
       "       title-1 title-2 support confidence   lift\n",
       "count       11      11      11         11     11\n",
       "unique       3       3       6          9      7\n",
       "top       Wine  Butter  0.2727        1.0  1.375\n",
       "freq         8       7       3          2      3"
      ]
     },
     "execution_count": 11,
     "metadata": {},
     "output_type": "execute_result"
    }
   ],
   "source": [
    "store_suggestion.describe()"
   ]
  },
  {
   "cell_type": "code",
   "execution_count": 16,
   "id": "8238bf5c-c81e-43c8-a2ab-6265e677d699",
   "metadata": {},
   "outputs": [],
   "source": [
    "store_suggestion.to_excel(\"D:/data_hasil.xlsx\")"
   ]
  },
  {
   "cell_type": "code",
   "execution_count": null,
   "id": "1a73f890-c37a-4730-9f3d-6f162ab1683b",
   "metadata": {},
   "outputs": [],
   "source": []
  }
 ],
 "metadata": {
  "kernelspec": {
   "display_name": "Python 3 (ipykernel)",
   "language": "python",
   "name": "python3"
  },
  "language_info": {
   "codemirror_mode": {
    "name": "ipython",
    "version": 3
   },
   "file_extension": ".py",
   "mimetype": "text/x-python",
   "name": "python",
   "nbconvert_exporter": "python",
   "pygments_lexer": "ipython3",
   "version": "3.11.7"
  }
 },
 "nbformat": 4,
 "nbformat_minor": 5
}
